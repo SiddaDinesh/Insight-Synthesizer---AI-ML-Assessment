{
  "nbformat": 4,
  "nbformat_minor": 0,
  "metadata": {
    "colab": {
      "provenance": []
    },
    "kernelspec": {
      "name": "python3",
      "display_name": "Python 3"
    },
    "language_info": {
      "name": "python"
    }
  },
  "cells": [
    {
      "cell_type": "markdown",
      "source": [
        "##  **Insight Synthesizer - AI/ML Assessment**"
      ],
      "metadata": {
        "id": "4aH08cih4Px_"
      }
    },
    {
      "cell_type": "markdown",
      "source": [
        " ## **Project Overview**\n",
        "\n",
        "\n",
        "This project is a Python-based Insight Synthesizer designed for the Outlaw AI/ML assessment. It analyzes raw user survey feedback and extracts structured insights using NLP techniques. The goal is to automatically group responses into meaningful themes with supporting quotes and sentiment lab"
      ],
      "metadata": {
        "id": "Q14u26LD4Pul"
      }
    },
    {
      "cell_type": "markdown",
      "source": [
        "## **Objective**\n",
        "\n",
        "The objective of this project is to build an AI-powered module that transforms raw survey responses into structured, human-readable insights. Specifically, the system should:\n",
        "\n",
        "\n",
        "1 Analyze short-form user feedback.\n",
        "\n",
        "2 Identify and group common themes (e.g., privacy, usability, integrations).\n",
        "\n",
        "\n",
        "3 Select 1–12 representative quotes for each theme.\n",
        "\n",
        "\n",
        "4 Assign an overall sentiment label (positive, neutral, or negative) to each theme group."
      ],
      "metadata": {
        "id": "uUniXIRM4Prk"
      }
    },
    {
      "cell_type": "code",
      "source": [
        "!pip install transformers"
      ],
      "metadata": {
        "colab": {
          "base_uri": "https://localhost:8080/"
        },
        "id": "SF0Gu-bL1cDf",
        "outputId": "05257108-64fc-4c87-b25c-f2112db89ea1"
      },
      "execution_count": 1,
      "outputs": [
        {
          "output_type": "stream",
          "name": "stdout",
          "text": [
            "Requirement already satisfied: transformers in /usr/local/lib/python3.11/dist-packages (4.51.3)\n",
            "Requirement already satisfied: filelock in /usr/local/lib/python3.11/dist-packages (from transformers) (3.18.0)\n",
            "Requirement already satisfied: huggingface-hub<1.0,>=0.30.0 in /usr/local/lib/python3.11/dist-packages (from transformers) (0.31.2)\n",
            "Requirement already satisfied: numpy>=1.17 in /usr/local/lib/python3.11/dist-packages (from transformers) (2.0.2)\n",
            "Requirement already satisfied: packaging>=20.0 in /usr/local/lib/python3.11/dist-packages (from transformers) (24.2)\n",
            "Requirement already satisfied: pyyaml>=5.1 in /usr/local/lib/python3.11/dist-packages (from transformers) (6.0.2)\n",
            "Requirement already satisfied: regex!=2019.12.17 in /usr/local/lib/python3.11/dist-packages (from transformers) (2024.11.6)\n",
            "Requirement already satisfied: requests in /usr/local/lib/python3.11/dist-packages (from transformers) (2.32.3)\n",
            "Requirement already satisfied: tokenizers<0.22,>=0.21 in /usr/local/lib/python3.11/dist-packages (from transformers) (0.21.1)\n",
            "Requirement already satisfied: safetensors>=0.4.3 in /usr/local/lib/python3.11/dist-packages (from transformers) (0.5.3)\n",
            "Requirement already satisfied: tqdm>=4.27 in /usr/local/lib/python3.11/dist-packages (from transformers) (4.67.1)\n",
            "Requirement already satisfied: fsspec>=2023.5.0 in /usr/local/lib/python3.11/dist-packages (from huggingface-hub<1.0,>=0.30.0->transformers) (2025.3.2)\n",
            "Requirement already satisfied: typing-extensions>=3.7.4.3 in /usr/local/lib/python3.11/dist-packages (from huggingface-hub<1.0,>=0.30.0->transformers) (4.13.2)\n",
            "Requirement already satisfied: charset-normalizer<4,>=2 in /usr/local/lib/python3.11/dist-packages (from requests->transformers) (3.4.2)\n",
            "Requirement already satisfied: idna<4,>=2.5 in /usr/local/lib/python3.11/dist-packages (from requests->transformers) (3.10)\n",
            "Requirement already satisfied: urllib3<3,>=1.21.1 in /usr/local/lib/python3.11/dist-packages (from requests->transformers) (2.4.0)\n",
            "Requirement already satisfied: certifi>=2017.4.17 in /usr/local/lib/python3.11/dist-packages (from requests->transformers) (2025.4.26)\n"
          ]
        }
      ]
    },
    {
      "cell_type": "markdown",
      "source": [
        "## **Importing Libraries**"
      ],
      "metadata": {
        "id": "U3uvlDfp5H3s"
      }
    },
    {
      "cell_type": "code",
      "source": [
        "from transformers import pipeline\n",
        "import json\n",
        "from typing import List, Dict\n",
        "from collections import defaultdict, Counter\n"
      ],
      "metadata": {
        "id": "ETh2HkjR1b_t"
      },
      "execution_count": 2,
      "outputs": []
    },
    {
      "cell_type": "markdown",
      "source": [
        "## **Load Hugging Face models**\n",
        "\n",
        "Hugging Face is a company and open-source platform specializing in natural language processing (NLP) and machine learning tools.\n",
        "\n",
        "It provides easy-to-use libraries and models for tasks like text generation, translation, and sentiment analysis."
      ],
      "metadata": {
        "id": "wxo_xffD5ZPp"
      }
    },
    {
      "cell_type": "code",
      "source": [
        "topic_classifier = pipeline(\"zero-shot-classification\", model=\"facebook/bart-large-mnli\")\n",
        "sentiment_analyzer = pipeline(\"sentiment-analysis\")"
      ],
      "metadata": {
        "colab": {
          "base_uri": "https://localhost:8080/"
        },
        "id": "VU0-MbTC1b8f",
        "outputId": "97d06e86-7431-4395-97b2-e4849b5a8ff7"
      },
      "execution_count": 3,
      "outputs": [
        {
          "output_type": "stream",
          "name": "stderr",
          "text": [
            "/usr/local/lib/python3.11/dist-packages/huggingface_hub/utils/_auth.py:94: UserWarning: \n",
            "The secret `HF_TOKEN` does not exist in your Colab secrets.\n",
            "To authenticate with the Hugging Face Hub, create a token in your settings tab (https://huggingface.co/settings/tokens), set it as secret in your Google Colab and restart your session.\n",
            "You will be able to reuse this secret in all of your notebooks.\n",
            "Please note that authentication is recommended but still optional to access public models or datasets.\n",
            "  warnings.warn(\n",
            "Device set to use cpu\n",
            "No model was supplied, defaulted to distilbert/distilbert-base-uncased-finetuned-sst-2-english and revision 714eb0f (https://huggingface.co/distilbert/distilbert-base-uncased-finetuned-sst-2-english).\n",
            "Using a pipeline without specifying a model name and revision in production is not recommended.\n",
            "Device set to use cpu\n"
          ]
        }
      ]
    },
    {
      "cell_type": "markdown",
      "source": [
        "##  **Predefined Themes**"
      ],
      "metadata": {
        "id": "e1X-Jvaa5j3j"
      }
    },
    {
      "cell_type": "code",
      "source": [
        "predefined_themes = [\n",
        "    \"Privacy Concerns\",\n",
        "    \"Product Expectations\",\n",
        "    \"User Experience\",\n",
        "    \"Integration Requests\",\n",
        "    \"Security Concerns\"\n",
        "]"
      ],
      "metadata": {
        "id": "Hcip_xgJ1b4o"
      },
      "execution_count": 4,
      "outputs": []
    },
    {
      "cell_type": "code",
      "source": [
        "def aggregate_sentiment(sentiments):\n",
        "    counter = Counter(sentiments)\n",
        "    if counter['NEGATIVE'] >= counter['POSITIVE']:\n",
        "        return \"neutral\" if counter['NEGATIVE'] == counter['POSITIVE'] else \"negative\"\n",
        "    return \"positive\" if counter['POSITIVE'] > 1 else \"neutral\"\n"
      ],
      "metadata": {
        "id": "2194DDr83P_E"
      },
      "execution_count": 5,
      "outputs": []
    },
    {
      "cell_type": "code",
      "source": [
        "def generate_insights(feedbacks: List[str], threshold: float = 0.7) -> List[Dict]:\n",
        "    theme_data = defaultdict(list)\n",
        "    sentiment_scores = defaultdict(list)\n",
        "\n",
        "    for feedback in feedbacks:\n",
        "        theme_result = topic_classifier(feedback, candidate_labels=predefined_themes)\n",
        "        for label, score in zip(theme_result['labels'], theme_result['scores']):\n",
        "            if score >= threshold:\n",
        "                theme_data[label].append(feedback)\n",
        "\n",
        "        sentiment = sentiment_analyzer(feedback)[0]['label']\n",
        "        for label, score in zip(theme_result['labels'], theme_result['scores']):\n",
        "            if score >= threshold:\n",
        "                sentiment_scores[label].append(sentiment)\n",
        "\n",
        "    insights = []\n",
        "    for theme, quotes in theme_data.items():\n",
        "        sentiments = sentiment_scores[theme]\n",
        "        aggregated_sentiment = aggregate_sentiment(sentiments).lower()\n",
        "\n",
        "        insights.append({\n",
        "            \"theme\": theme,\n",
        "            \"quotes\": quotes,\n",
        "            \"sentiment\": aggregated_sentiment\n",
        "        })\n",
        "\n",
        "    return insights\n"
      ],
      "metadata": {
        "id": "WDdXb-rb1b2X"
      },
      "execution_count": 6,
      "outputs": []
    },
    {
      "cell_type": "markdown",
      "source": [
        "## **Sample Feedback**"
      ],
      "metadata": {
        "id": "M9P6FKU76EzM"
      }
    },
    {
      "cell_type": "code",
      "source": [
        "sample_feedback = [\n",
        "    \"I love the idea of an AI that writes emails...\",\n",
        "    \"Privacy is my biggest concern...\",\n",
        "    \"If this works with Gmail and Slack...\",\n",
        "    \"Make sure it doesn't sound robotic.\",\n",
        "    \"Would love integrations, but only if theyre secure.\"\n",
        "]"
      ],
      "metadata": {
        "id": "XTO_hCTh1byp"
      },
      "execution_count": 7,
      "outputs": []
    },
    {
      "cell_type": "markdown",
      "source": [
        "## **Output**"
      ],
      "metadata": {
        "id": "zZ1CPYJ26V0g"
      }
    },
    {
      "cell_type": "code",
      "source": [
        "insights = generate_insights(sample_feedback)\n",
        "print(\"Generated Insights:\\n\", json.dumps(insights, indent=2))"
      ],
      "metadata": {
        "colab": {
          "base_uri": "https://localhost:8080/"
        },
        "id": "HcP0sD4a1bu-",
        "outputId": "7312f283-276b-4bf4-e7b4-3b9c1136e820"
      },
      "execution_count": 8,
      "outputs": [
        {
          "output_type": "stream",
          "name": "stdout",
          "text": [
            "Generated Insights:\n",
            " [\n",
            "  {\n",
            "    \"theme\": \"Privacy Concerns\",\n",
            "    \"quotes\": [\n",
            "      \"Privacy is my biggest concern...\"\n",
            "    ],\n",
            "    \"sentiment\": \"neutral\"\n",
            "  }\n",
            "]\n"
          ]
        }
      ]
    },
    {
      "cell_type": "markdown",
      "source": [
        "## **Final Recommandation**\n",
        "\n",
        "Focus on enhancing privacy safeguards and secure integrations with platforms like Gmail and Slack.\n",
        "\n",
        "Also, prioritize making the AI’s tone more natural to avoid robotic-sounding messages."
      ],
      "metadata": {
        "id": "K_YdpXeP7A04"
      }
    },
    {
      "cell_type": "code",
      "source": [],
      "metadata": {
        "id": "usmW5oj27WQt"
      },
      "execution_count": 8,
      "outputs": []
    }
  ]
}